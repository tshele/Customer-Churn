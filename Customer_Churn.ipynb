{
 "cells": [
  {
   "cell_type": "code",
   "execution_count": 1,
   "metadata": {},
   "outputs": [],
   "source": [
    "import numpy as np\n",
    "import matplotlib.pyplot as plt\n",
    "import pandas as pd"
   ]
  },
  {
   "cell_type": "code",
   "execution_count": 2,
   "metadata": {},
   "outputs": [],
   "source": [
    "dataset = pd.read_csv('Churn_Modelling.csv')"
   ]
  },
  {
   "cell_type": "code",
   "execution_count": 3,
   "metadata": {},
   "outputs": [],
   "source": [
    "X = dataset.iloc[:, 3:13].values"
   ]
  },
  {
   "cell_type": "code",
   "execution_count": 4,
   "metadata": {},
   "outputs": [],
   "source": [
    "y = dataset.iloc[:, 13].values\n"
   ]
  },
  {
   "cell_type": "code",
   "execution_count": 8,
   "metadata": {},
   "outputs": [],
   "source": [
    "# Encoding categorical data\n",
    "from sklearn.preprocessing import LabelEncoder, OneHotEncoder\n",
    "labelencoder_X_1 = LabelEncoder()\n",
    "X[:, 1] = labelencoder_X.fit_transform(X[:, 1])\n"
   ]
  },
  {
   "cell_type": "code",
   "execution_count": 9,
   "metadata": {},
   "outputs": [
    {
     "data": {
      "text/plain": [
       "array([[228, 0, 'Female', ..., 1, 1, 101348.88],\n",
       "       [217, 2, 'Female', ..., 0, 1, 112542.58],\n",
       "       [111, 0, 'Female', ..., 1, 0, 113931.57],\n",
       "       ...,\n",
       "       [318, 0, 'Female', ..., 0, 1, 42085.58],\n",
       "       [381, 1, 'Male', ..., 1, 0, 92888.52],\n",
       "       [401, 0, 'Female', ..., 1, 0, 38190.78]], dtype=object)"
      ]
     },
     "execution_count": 9,
     "metadata": {},
     "output_type": "execute_result"
    }
   ],
   "source": [
    "X"
   ]
  },
  {
   "cell_type": "code",
   "execution_count": 10,
   "metadata": {},
   "outputs": [],
   "source": [
    "labelencoder_X_2 = LabelEncoder()\n",
    "X[:, 2] = labelencoder_X.fit_transform(X[:, 2])"
   ]
  },
  {
   "cell_type": "code",
   "execution_count": 11,
   "metadata": {},
   "outputs": [
    {
     "data": {
      "text/plain": [
       "array([[228, 0, 0, ..., 1, 1, 101348.88],\n",
       "       [217, 2, 0, ..., 0, 1, 112542.58],\n",
       "       [111, 0, 0, ..., 1, 0, 113931.57],\n",
       "       ...,\n",
       "       [318, 0, 0, ..., 0, 1, 42085.58],\n",
       "       [381, 1, 1, ..., 1, 0, 92888.52],\n",
       "       [401, 0, 0, ..., 1, 0, 38190.78]], dtype=object)"
      ]
     },
     "execution_count": 11,
     "metadata": {},
     "output_type": "execute_result"
    }
   ],
   "source": [
    "X"
   ]
  },
  {
   "cell_type": "code",
   "execution_count": 12,
   "metadata": {},
   "outputs": [
    {
     "name": "stderr",
     "output_type": "stream",
     "text": [
      "C:\\Users\\major\\Anaconda3\\lib\\site-packages\\sklearn\\preprocessing\\_encoders.py:371: FutureWarning: The handling of integer data will change in version 0.22. Currently, the categories are determined based on the range [0, max(values)], while in the future they will be determined based on the unique values.\n",
      "If you want the future behaviour and silence this warning, you can specify \"categories='auto'\".\n",
      "In case you used a LabelEncoder before this OneHotEncoder to convert the categories to integers, then you can now use the OneHotEncoder directly.\n",
      "  warnings.warn(msg, FutureWarning)\n",
      "C:\\Users\\major\\Anaconda3\\lib\\site-packages\\sklearn\\preprocessing\\_encoders.py:392: DeprecationWarning: The 'categorical_features' keyword is deprecated in version 0.20 and will be removed in 0.22. You can use the ColumnTransformer instead.\n",
      "  \"use the ColumnTransformer instead.\", DeprecationWarning)\n"
     ]
    }
   ],
   "source": [
    "onehotencoder = OneHotEncoder(categorical_features = [1])\n",
    "X = onehotencoder.fit_transform(X).toarray()"
   ]
  },
  {
   "cell_type": "code",
   "execution_count": 13,
   "metadata": {},
   "outputs": [],
   "source": [
    "X = X[:, 1:]"
   ]
  },
  {
   "cell_type": "code",
   "execution_count": 15,
   "metadata": {},
   "outputs": [],
   "source": [
    "# Splitting the dataset into the Training set and Test set\n",
    "from sklearn.model_selection import train_test_split\n",
    "X_train, X_test, y_train, y_test = train_test_split(X, y, test_size = 0.2, random_state = 0)"
   ]
  },
  {
   "cell_type": "code",
   "execution_count": 16,
   "metadata": {},
   "outputs": [],
   "source": [
    "# Feature Scaling\n",
    "from sklearn.preprocessing import StandardScaler\n",
    "sc = StandardScaler()\n",
    "X_train = sc.fit_transform(X_train)\n",
    "X_test = sc.transform(X_test)"
   ]
  },
  {
   "cell_type": "code",
   "execution_count": 17,
   "metadata": {},
   "outputs": [
    {
     "name": "stderr",
     "output_type": "stream",
     "text": [
      "Using TensorFlow backend.\n"
     ]
    }
   ],
   "source": [
    "#Imoprting the Keras libraries and packages\n",
    "import keras"
   ]
  },
  {
   "cell_type": "code",
   "execution_count": 18,
   "metadata": {},
   "outputs": [],
   "source": [
    "from keras.models import Sequential"
   ]
  },
  {
   "cell_type": "code",
   "execution_count": 19,
   "metadata": {},
   "outputs": [],
   "source": [
    "from keras.layers import Dense"
   ]
  },
  {
   "cell_type": "code",
   "execution_count": 20,
   "metadata": {},
   "outputs": [
    {
     "name": "stderr",
     "output_type": "stream",
     "text": [
      "WARNING: Logging before flag parsing goes to stderr.\n",
      "W0820 12:22:09.347573 12540 deprecation_wrapper.py:119] From C:\\Users\\major\\Anaconda3\\lib\\site-packages\\keras\\backend\\tensorflow_backend.py:74: The name tf.get_default_graph is deprecated. Please use tf.compat.v1.get_default_graph instead.\n",
      "\n"
     ]
    }
   ],
   "source": [
    "#Initialising the ANN\n",
    "classifier = Sequential()\n"
   ]
  },
  {
   "cell_type": "code",
   "execution_count": 21,
   "metadata": {},
   "outputs": [
    {
     "name": "stderr",
     "output_type": "stream",
     "text": [
      "C:\\Users\\major\\Anaconda3\\lib\\site-packages\\ipykernel_launcher.py:1: UserWarning: Update your `Dense` call to the Keras 2 API: `Dense(activation=\"relu\", input_dim=11, units=6, kernel_initializer=\"uniform\")`\n",
      "  \"\"\"Entry point for launching an IPython kernel.\n",
      "W0820 12:30:13.591263 12540 deprecation_wrapper.py:119] From C:\\Users\\major\\Anaconda3\\lib\\site-packages\\keras\\backend\\tensorflow_backend.py:517: The name tf.placeholder is deprecated. Please use tf.compat.v1.placeholder instead.\n",
      "\n",
      "W0820 12:30:14.585700 12540 deprecation_wrapper.py:119] From C:\\Users\\major\\Anaconda3\\lib\\site-packages\\keras\\backend\\tensorflow_backend.py:4138: The name tf.random_uniform is deprecated. Please use tf.random.uniform instead.\n",
      "\n"
     ]
    }
   ],
   "source": [
    "#Adding the input layer and the first hidden layer\n",
    "classifier.add(Dense(output_dim = 6, init = 'uniform', activation = 'relu', input_dim = 11))"
   ]
  },
  {
   "cell_type": "code",
   "execution_count": 22,
   "metadata": {},
   "outputs": [
    {
     "name": "stderr",
     "output_type": "stream",
     "text": [
      "C:\\Users\\major\\Anaconda3\\lib\\site-packages\\ipykernel_launcher.py:2: UserWarning: Update your `Dense` call to the Keras 2 API: `Dense(activation=\"relu\", units=6, kernel_initializer=\"uniform\")`\n",
      "  \n"
     ]
    }
   ],
   "source": [
    "#Adding the second hidden layer\n",
    "classifier.add(Dense(output_dim = 6, init = 'uniform', activation = 'relu'))"
   ]
  },
  {
   "cell_type": "code",
   "execution_count": 23,
   "metadata": {},
   "outputs": [
    {
     "name": "stderr",
     "output_type": "stream",
     "text": [
      "C:\\Users\\major\\Anaconda3\\lib\\site-packages\\ipykernel_launcher.py:2: UserWarning: Update your `Dense` call to the Keras 2 API: `Dense(activation=\"sigmoid\", units=1, kernel_initializer=\"uniform\")`\n",
      "  \n"
     ]
    }
   ],
   "source": [
    "#Adding the output layer\n",
    "classifier.add(Dense(output_dim = 1, init = 'uniform', activation = 'sigmoid'))"
   ]
  },
  {
   "cell_type": "code",
   "execution_count": 24,
   "metadata": {},
   "outputs": [
    {
     "name": "stderr",
     "output_type": "stream",
     "text": [
      "W0820 12:40:18.100852 12540 deprecation_wrapper.py:119] From C:\\Users\\major\\Anaconda3\\lib\\site-packages\\keras\\optimizers.py:790: The name tf.train.Optimizer is deprecated. Please use tf.compat.v1.train.Optimizer instead.\n",
      "\n",
      "W0820 12:40:18.422347 12540 deprecation_wrapper.py:119] From C:\\Users\\major\\Anaconda3\\lib\\site-packages\\keras\\backend\\tensorflow_backend.py:3376: The name tf.log is deprecated. Please use tf.math.log instead.\n",
      "\n",
      "W0820 12:40:18.465283 12540 deprecation.py:323] From C:\\Users\\major\\Anaconda3\\lib\\site-packages\\tensorflow\\python\\ops\\nn_impl.py:180: add_dispatch_support.<locals>.wrapper (from tensorflow.python.ops.array_ops) is deprecated and will be removed in a future version.\n",
      "Instructions for updating:\n",
      "Use tf.where in 2.0, which has the same broadcast rule as np.where\n"
     ]
    }
   ],
   "source": [
    "classifier.compile(optimizer = 'adam', loss = 'binary_crossentropy', metrics = ['accuracy'])"
   ]
  },
  {
   "cell_type": "code",
   "execution_count": 25,
   "metadata": {},
   "outputs": [
    {
     "name": "stderr",
     "output_type": "stream",
     "text": [
      "C:\\Users\\major\\Anaconda3\\lib\\site-packages\\ipykernel_launcher.py:2: UserWarning: The `nb_epoch` argument in `fit` has been renamed `epochs`.\n",
      "  \n",
      "W0820 12:43:16.633808 12540 deprecation_wrapper.py:119] From C:\\Users\\major\\Anaconda3\\lib\\site-packages\\keras\\backend\\tensorflow_backend.py:986: The name tf.assign_add is deprecated. Please use tf.compat.v1.assign_add instead.\n",
      "\n"
     ]
    },
    {
     "name": "stdout",
     "output_type": "stream",
     "text": [
      "Epoch 1/100\n",
      "8000/8000 [==============================] - 31s 4ms/step - loss: 0.4860 - acc: 0.7951: 4s - loss: \n",
      "Epoch 2/100\n",
      "8000/8000 [==============================] - 10s 1ms/step - loss: 0.4264 - acc: 0.7960: 1s - loss: 0.42 - ETA: 0s - loss: 0.422\n",
      "Epoch 3/100\n",
      "8000/8000 [==============================] - 8s 992us/step - loss: 0.4182 - acc: 0.8146\n",
      "Epoch 4/100\n",
      "8000/8000 [==============================] - 8s 948us/step - loss: 0.4132 - acc: 0.8322\n",
      "Epoch 5/100\n",
      "8000/8000 [==============================] - 8s 974us/step - loss: 0.4094 - acc: 0.8316 1s -  - ETA: 0s - loss: 0.4077 \n",
      "Epoch 6/100\n",
      "8000/8000 [==============================] - 8s 966us/step - loss: 0.4067 - acc: 0.8334\n",
      "Epoch 7/100\n",
      "8000/8000 [==============================] - 8s 1ms/step - loss: 0.4047 - acc: 0.8337\n",
      "Epoch 8/100\n",
      "8000/8000 [==============================] - 8s 983us/step - loss: 0.4030 - acc: 0.8347\n",
      "Epoch 9/100\n",
      "8000/8000 [==============================] - 9s 1ms/step - loss: 0.4016 - acc: 0.8346\n",
      "Epoch 10/100\n",
      "8000/8000 [==============================] - 8s 1ms/step - loss: 0.4006 - acc: 0.8337\n",
      "Epoch 11/100\n",
      "8000/8000 [==============================] - 8s 977us/step - loss: 0.3995 - acc: 0.8347\n",
      "Epoch 12/100\n",
      "8000/8000 [==============================] - 8s 1ms/step - loss: 0.3986 - acc: 0.8342\n",
      "Epoch 13/100\n",
      "8000/8000 [==============================] - 10s 1ms/step - loss: 0.3982 - acc: 0.8370\n",
      "Epoch 14/100\n",
      "8000/8000 [==============================] - 8s 1ms/step - loss: 0.3981 - acc: 0.8355\n",
      "Epoch 15/100\n",
      "8000/8000 [==============================] - 8s 1ms/step - loss: 0.3973 - acc: 0.8347 ETA: 0s - loss: 0.3986\n",
      "Epoch 16/100\n",
      "8000/8000 [==============================] - 8s 969us/step - loss: 0.3968 - acc: 0.8340\n",
      "Epoch 17/100\n",
      "8000/8000 [==============================] - 8s 1ms/step - loss: 0.3962 - acc: 0.8364\n",
      "Epoch 18/100\n",
      "8000/8000 [==============================] - 10s 1ms/step - loss: 0.3961 - acc: 0.8361\n",
      "Epoch 19/100\n",
      "8000/8000 [==============================] - 8s 1ms/step - loss: 0.3949 - acc: 0.8371\n",
      "Epoch 20/100\n",
      "8000/8000 [==============================] - 8s 1ms/step - loss: 0.3938 - acc: 0.8387\n",
      "Epoch 21/100\n",
      "8000/8000 [==============================] - 9s 1ms/step - loss: 0.3927 - acc: 0.8372A:\n",
      "Epoch 22/100\n",
      "8000/8000 [==============================] - 9s 1ms/step - loss: 0.3899 - acc: 0.8399\n",
      "Epoch 23/100\n",
      "8000/8000 [==============================] - 10s 1ms/step - loss: 0.3880 - acc: 0.8426\n",
      "Epoch 24/100\n",
      "8000/8000 [==============================] - 9s 1ms/step - loss: 0.3847 - acc: 0.8401\n",
      "Epoch 25/100\n",
      "8000/8000 [==============================] - 10s 1ms/step - loss: 0.3810 - acc: 0.8419\n",
      "Epoch 26/100\n",
      "8000/8000 [==============================] - 9s 1ms/step - loss: 0.3783 - acc: 0.8430\n",
      "Epoch 27/100\n",
      "8000/8000 [==============================] - 8s 1ms/step - loss: 0.3728 - acc: 0.8450\n",
      "Epoch 28/100\n",
      "8000/8000 [==============================] - 9s 1ms/step - loss: 0.3687 - acc: 0.8477\n",
      "Epoch 29/100\n",
      "8000/8000 [==============================] - 11s 1ms/step - loss: 0.3635 - acc: 0.8510\n",
      "Epoch 30/100\n",
      "8000/8000 [==============================] - 9s 1ms/step - loss: 0.3601 - acc: 0.8509\n",
      "Epoch 31/100\n",
      "8000/8000 [==============================] - 8s 1ms/step - loss: 0.3562 - acc: 0.8546\n",
      "Epoch 32/100\n",
      "8000/8000 [==============================] - 9s 1ms/step - loss: 0.3534 - acc: 0.8554\n",
      "Epoch 33/100\n",
      "8000/8000 [==============================] - 11s 1ms/step - loss: 0.3526 - acc: 0.8572: 1s - lo\n",
      "Epoch 34/100\n",
      "8000/8000 [==============================] - 9s 1ms/step - loss: 0.3509 - acc: 0.8572\n",
      "Epoch 35/100\n",
      "8000/8000 [==============================] - 9s 1ms/step - loss: 0.3498 - acc: 0.8584\n",
      "Epoch 36/100\n",
      "8000/8000 [==============================] - 9s 1ms/step - loss: 0.3489 - acc: 0.8561\n",
      "Epoch 37/100\n",
      "8000/8000 [==============================] - 9s 1ms/step - loss: 0.3480 - acc: 0.8559\n",
      "Epoch 38/100\n",
      "8000/8000 [==============================] - 9s 1ms/step - loss: 0.3480 - acc: 0.8574\n",
      "Epoch 39/100\n",
      "8000/8000 [==============================] - 9s 1ms/step - loss: 0.3470 - acc: 0.8575\n",
      "Epoch 40/100\n",
      "8000/8000 [==============================] - 9s 1ms/step - loss: 0.3455 - acc: 0.8572\n",
      "Epoch 41/100\n",
      "8000/8000 [==============================] - 9s 1ms/step - loss: 0.3458 - acc: 0.8579\n",
      "Epoch 42/100\n",
      "8000/8000 [==============================] - 10s 1ms/step - loss: 0.3451 - acc: 0.8577: 2s - los - ETA: 1s - loss\n",
      "Epoch 43/100\n",
      "8000/8000 [==============================] - 10s 1ms/step - loss: 0.3455 - acc: 0.8565\n",
      "Epoch 44/100\n",
      "8000/8000 [==============================] - 10s 1ms/step - loss: 0.3448 - acc: 0.8594\n",
      "Epoch 45/100\n",
      "8000/8000 [==============================] - ETA: 0s - loss: 0.3443 - acc: 0.8579- ETA: 1s - loss: 0. - 9s 1ms/step - loss: 0.3443 - acc: 0.8579\n",
      "Epoch 46/100\n",
      "8000/8000 [==============================] - 10s 1ms/step - loss: 0.3435 - acc: 0.8589\n",
      "Epoch 47/100\n",
      "8000/8000 [==============================] - 9s 1ms/step - loss: 0.3436 - acc: 0.8602A: - ETA: 1s - loss: \n",
      "Epoch 48/100\n",
      "8000/8000 [==============================] - 9s 1ms/step - loss: 0.3441 - acc: 0.8577A: 2s - loss: 0.3468 - acc: 0 - ETA: 1s - loss: 0.3 - ETA: 1s - loss: 0.3\n",
      "Epoch 49/100\n",
      "8000/8000 [==============================] - 14s 2ms/step - loss: 0.3426 - acc: 0.8577\n",
      "Epoch 50/100\n",
      "8000/8000 [==============================] - 12s 1ms/step - loss: 0.3432 - acc: 0.8590: \n",
      "Epoch 51/100\n",
      "8000/8000 [==============================] - 18s 2ms/step - loss: 0.3429 - acc: 0.8589: 0s - loss: 0.3424 - acc: 0.858\n",
      "Epoch 52/100\n",
      "8000/8000 [==============================] - 14s 2ms/step - loss: 0.3422 - acc: 0.8602: 7s - - ETA - - ETA: 0s - loss: 0.3434 - acc: 0.\n",
      "Epoch 53/100\n",
      "8000/8000 [==============================] - 16s 2ms/step - loss: 0.3426 - acc: 0.8571: \n",
      "Epoch 54/100\n",
      "8000/8000 [==============================] - 14s 2ms/step - loss: 0.3421 - acc: 0.8600\n",
      "Epoch 55/100\n",
      "8000/8000 [==============================] - 13s 2ms/step - loss: 0.3410 - acc: 0.8600: 0s - loss: 0.3410 - acc: 0\n",
      "Epoch 56/100\n",
      "8000/8000 [==============================] - 13s 2ms/step - loss: 0.3410 - acc: 0.8596: 4s - loss: 0.3468 -  - ETA: 3s - loss: 0.3455 - ac - ETA: 3s - loss:  - ETA: 1s\n",
      "Epoch 57/100\n",
      "8000/8000 [==============================] - 13s 2ms/step - loss: 0.3417 - acc: 0.8587\n",
      "Epoch 58/100\n",
      "8000/8000 [==============================] - 11s 1ms/step - loss: 0.3411 - acc: 0.8580: 6s - lo\n",
      "Epoch 59/100\n",
      "8000/8000 [==============================] - 12s 1ms/step - loss: 0.3409 - acc: 0.8600\n",
      "Epoch 60/100\n",
      "8000/8000 [==============================] - 12s 2ms/step - loss: 0.3413 - acc: 0.8604: 1s - loss: 0.\n",
      "Epoch 61/100\n",
      " 150/8000 [..............................] - ETA: 38s - loss: 0.2609 - acc: 0.9200"
     ]
    },
    {
     "name": "stderr",
     "output_type": "stream",
     "text": [
      "C:\\Users\\major\\Anaconda3\\lib\\site-packages\\keras\\callbacks.py:122: UserWarning: Method on_batch_end() is slow compared to the batch update (0.120810). Check your callbacks.\n",
      "  % delta_t_median)\n"
     ]
    },
    {
     "name": "stdout",
     "output_type": "stream",
     "text": [
      "8000/8000 [==============================] - 13s 2ms/step - loss: 0.3399 - acc: 0.8582: 5s - loss: 0.3339 - a - ETA: 4s \n",
      "Epoch 62/100\n",
      "8000/8000 [==============================] - 13s 2ms/step - loss: 0.3411 - acc: 0.8597 ETA: 0s - loss: 0.3427 - a\n",
      "Epoch 63/100\n",
      "8000/8000 [==============================] - 13s 2ms/step - loss: 0.3404 - acc: 0.8579: 1s - los\n",
      "Epoch 64/100\n",
      "8000/8000 [==============================] - 14s 2ms/step - loss: 0.3396 - acc: 0.8604: 0s - loss: 0.3394 - acc: 0.8\n",
      "Epoch 65/100\n",
      "8000/8000 [==============================] - 14s 2ms/step - loss: 0.3402 - acc: 0.8609\n",
      "Epoch 66/100\n",
      "8000/8000 [==============================] - 11s 1ms/step - loss: 0.3402 - acc: 0.8587: 6s - loss: 0.3398 \n",
      "Epoch 67/100\n",
      "8000/8000 [==============================] - 8s 1ms/step - loss: 0.3398 - acc: 0.8600\n",
      "Epoch 68/100\n",
      "8000/8000 [==============================] - 12s 1ms/step - loss: 0.3393 - acc: 0.8584\n",
      "Epoch 69/100\n",
      "8000/8000 [==============================] - 13s 2ms/step - loss: 0.3393 - acc: 0.8587\n",
      "Epoch 70/100\n",
      "8000/8000 [==============================] - 12s 2ms/step - loss: 0.3385 - acc: 0.8594\n",
      "Epoch 71/100\n",
      "8000/8000 [==============================] - 14s 2ms/step - loss: 0.3389 - acc: 0.8594\n",
      "Epoch 72/100\n",
      "8000/8000 [==============================] - 17s 2ms/step - loss: 0.3396 - acc: 0.8602: 7s - \n",
      "Epoch 73/100\n",
      "8000/8000 [==============================] - 17s 2ms/step - loss: 0.3367 - acc: 0.8615\n",
      "Epoch 74/100\n",
      "8000/8000 [==============================] - 18s 2ms/step - loss: 0.3388 - acc: 0.8609: 6s - loss: 0.3502 - - ET - ETA: 2s - loss: 0.3413 - acc: 0.8 - ETA\n",
      "Epoch 75/100\n",
      "8000/8000 [==============================] - 16s 2ms/step - loss: 0.3391 - acc: 0.8596: 5s - loss: 0 - ETA: 1s -\n",
      "Epoch 76/100\n",
      "8000/8000 [==============================] - 15s 2ms/step - loss: 0.3382 - acc: 0.8586\n",
      "Epoch 77/100\n",
      "8000/8000 [==============================] - 15s 2ms/step - loss: 0.3390 - acc: 0.8609 ETA: 1s - loss: 0.3367 - acc: 0 - ETA: 0s - loss\n",
      "Epoch 78/100\n",
      "8000/8000 [==============================] - 21s 3ms/step - loss: 0.3369 - acc: 0.8596\n",
      "Epoch 79/100\n",
      "8000/8000 [==============================] - 22s 3ms/step - loss: 0.3386 - acc: 0.8607\n",
      "Epoch 80/100\n",
      "8000/8000 [==============================] - 20s 3ms/step - loss: 0.3381 - acc: 0.8601: 6s - loss: 0.\n",
      "Epoch 81/100\n",
      "8000/8000 [==============================] - 20s 3ms/step - loss: 0.3373 - acc: 0.8609\n",
      "Epoch 82/100\n",
      "8000/8000 [==============================] - 14s 2ms/step - loss: 0.3380 - acc: 0.8600\n",
      "Epoch 83/100\n",
      "8000/8000 [==============================] - 5s 647us/step - loss: 0.3375 - acc: 0.8610\n",
      "Epoch 84/100\n",
      "8000/8000 [==============================] - 10s 1ms/step - loss: 0.3375 - acc: 0.8596\n",
      "Epoch 85/100\n",
      "8000/8000 [==============================] - 20s 2ms/step - loss: 0.3380 - acc: 0.8627A: 0s - loss: 0.3373\n",
      "Epoch 86/100\n",
      "8000/8000 [==============================] - 20s 3ms/step - loss: 0.3376 - acc: 0.8605\n",
      "Epoch 87/100\n",
      "8000/8000 [==============================] - 24s 3ms/step - loss: 0.3370 - acc: 0.8601\n",
      "Epoch 88/100\n",
      "8000/8000 [==============================] - 24s 3ms/step - loss: 0.3370 - acc: 0.8612: 1s - loss: 0.3365 - \n",
      "Epoch 89/100\n",
      "8000/8000 [==============================] - 20s 2ms/step - loss: 0.3371 - acc: 0.8619: 8s - loss: 0.3421 - acc: 0.859 - ETA: 8s - loss: 0.3420 - acc: 0 -\n",
      "Epoch 90/100\n",
      "8000/8000 [==============================] - 18s 2ms/step - loss: 0.3368 - acc: 0.8622\n",
      "Epoch 91/100\n",
      "8000/8000 [==============================] - 26s 3ms/step - loss: 0.3365 - acc: 0.8621: 1s - loss: 0.33 - ETA: 0s - loss: 0.3369 - acc: 0.8\n",
      "Epoch 92/100\n",
      "8000/8000 [==============================] - 23s 3ms/step - loss: 0.3368 - acc: 0.8619: \n",
      "Epoch 93/100\n",
      "8000/8000 [==============================] - 25s 3ms/step - loss: 0.3363 - acc: 0.8626\n",
      "Epoch 94/100\n",
      "8000/8000 [==============================] - 24s 3ms/step - loss: 0.3370 - acc: 0.8599\n",
      "Epoch 95/100\n",
      "8000/8000 [==============================] - 20s 3ms/step - loss: 0.3362 - acc: 0.8635: 0s - loss: 0.3358 - acc:\n",
      "Epoch 96/100\n",
      "8000/8000 [==============================] - 24s 3ms/step - loss: 0.3364 - acc: 0.8610: 0s - loss: 0.3371 - \n",
      "Epoch 97/100\n",
      "8000/8000 [==============================] - 22s 3ms/step - loss: 0.3363 - acc: 0.8622\n",
      "Epoch 98/100\n",
      "8000/8000 [==============================] - 24s 3ms/step - loss: 0.3359 - acc: 0.8616:  - ETA: 1s -\n",
      "Epoch 99/100\n",
      "8000/8000 [==============================] - 24s 3ms/step - loss: 0.3360 - acc: 0.8594\n",
      "Epoch 100/100\n",
      "8000/8000 [==============================] - 21s 3ms/step - loss: 0.3361 - acc: 0.8615: 6s \n"
     ]
    },
    {
     "data": {
      "text/plain": [
       "<keras.callbacks.History at 0x1e5b2168cf8>"
      ]
     },
     "execution_count": 25,
     "metadata": {},
     "output_type": "execute_result"
    }
   ],
   "source": [
    "#Fitting the ANN to the training set\n",
    "classifier.fit(X_train, y_train, batch_size = 10, nb_epoch = 100)"
   ]
  },
  {
   "cell_type": "code",
   "execution_count": 26,
   "metadata": {},
   "outputs": [],
   "source": [
    "#Predicting the Test set results\n",
    "y_pred = classifier.predict(X_test)"
   ]
  },
  {
   "cell_type": "code",
   "execution_count": 27,
   "metadata": {},
   "outputs": [],
   "source": [
    "y_pred = (y_pred > 0.5)"
   ]
  },
  {
   "cell_type": "code",
   "execution_count": 28,
   "metadata": {},
   "outputs": [],
   "source": [
    "#Making the confusion matrix\n",
    "from sklearn.metrics import confusion_matrix\n",
    "cm = confusion_matrix(y_test, y_pred)"
   ]
  },
  {
   "cell_type": "code",
   "execution_count": 29,
   "metadata": {},
   "outputs": [
    {
     "data": {
      "text/plain": [
       "0.8625"
      ]
     },
     "execution_count": 29,
     "metadata": {},
     "output_type": "execute_result"
    }
   ],
   "source": [
    "(1550 + 175)/2000"
   ]
  },
  {
   "cell_type": "code",
   "execution_count": null,
   "metadata": {},
   "outputs": [],
   "source": []
  }
 ],
 "metadata": {
  "kernelspec": {
   "display_name": "Python 3",
   "language": "python",
   "name": "python3"
  },
  "language_info": {
   "codemirror_mode": {
    "name": "ipython",
    "version": 3
   },
   "file_extension": ".py",
   "mimetype": "text/x-python",
   "name": "python",
   "nbconvert_exporter": "python",
   "pygments_lexer": "ipython3",
   "version": "3.7.3"
  }
 },
 "nbformat": 4,
 "nbformat_minor": 2
}
